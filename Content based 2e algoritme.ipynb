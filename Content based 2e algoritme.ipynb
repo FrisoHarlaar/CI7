{
 "cells": [
  {
   "cell_type": "code",
   "execution_count": 76,
   "metadata": {},
   "outputs": [],
   "source": [
    "import pandas as pd\n",
    "import json\n",
    "import numpy as np\n",
    "import matplotlib.pyplot as plt\n",
    "\n",
    "\n",
    "def load_jsons(data_path, file):\n",
    "    \"\"\" helper function to load '.json' files (they're not proper jsons) \"\"\"\n",
    "    file_path = data_path + file\n",
    "    with open(file_path) as jsons:\n",
    "        lines = [json.loads(json_line) for json_line in jsons]\n",
    "    return pd.DataFrame(lines)"
   ]
  },
  {
   "cell_type": "code",
   "execution_count": 77,
   "metadata": {},
   "outputs": [],
   "source": [
    "# Load data for town called Ambridge\n",
    "data_path = './data/cleveland/'\n",
    "review_file = 'review.json'\n",
    "business_file = 'business.json'\n",
    "user_file = 'user.json'\n",
    "tip_file = 'tip.json'\n",
    "checkin_file = 'checkin.json'\n",
    "\n",
    "reviews = load_jsons(data_path, review_file)\n",
    "businesses = load_jsons(data_path, business_file)\n",
    "users = load_jsons(data_path, user_file)\n",
    "tips = load_jsons(data_path, tip_file)\n",
    "checkins = load_jsons(data_path, checkin_file)"
   ]
  },
  {
   "cell_type": "code",
   "execution_count": 78,
   "metadata": {
    "scrolled": true
   },
   "outputs": [],
   "source": [
    "# function for making utility matrix\n",
    "def CountFrequency(my_list): \n",
    "    # Creating an empty dictionary  \n",
    "    freq = {} \n",
    "    for item in my_list: \n",
    "        if (item in freq): \n",
    "            freq[item] += 1\n",
    "        else: \n",
    "            freq[item] = 1\n",
    "    return freq"
   ]
  },
  {
   "cell_type": "code",
   "execution_count": 97,
   "metadata": {},
   "outputs": [],
   "source": [
    "# collects all the business id's\n",
    "bs_restaurant = categorie_splitter(['restaurants', 'food'])['business_id'].to_list()\n",
    "bs_automotive = categorie_splitter(['automotive'])['business_id'].to_list()\n",
    "bs_nightlife = categorie_splitter(['nightlife', 'bars'])['business_id'].to_list()\n",
    "bs_shopping = categorie_splitter(['shopping'])['business_id'].to_list()\n",
    "bs_all = reviews['business_id'].to_list()"
   ]
  },
  {
   "cell_type": "code",
   "execution_count": 98,
   "metadata": {},
   "outputs": [],
   "source": [
    "#creates utility matrix for new catagories\n",
    "def create_utility_nc(bs_restaurant):\n",
    "    dic1 = {}\n",
    "    dic1a = {}\n",
    "    dic1b = {}\n",
    "    dic1c = {}\n",
    "    for index, row in reviews.iterrows():\n",
    "        if row['business_id'] in bs_restaurant:\n",
    "            if row['business_id'] not in dic1:\n",
    "                dic1[row['business_id']] = 0\n",
    "            dic1[row['business_id']] += row['cool']\n",
    "\n",
    "    for i in dic1.keys():\n",
    "        if dic1[i] < 4:\n",
    "            dic1a[i] = 1\n",
    "            dic1b[i] = 0\n",
    "            dic1c[i] = 0\n",
    "        elif dic1[i] < 20:\n",
    "            dic1a[i] = 0\n",
    "            dic1b[i] = 1\n",
    "            dic1c[i] = 0\n",
    "        else:\n",
    "            dic1a[i] = 0\n",
    "            dic1b[i] = 0\n",
    "            dic1c[i] = 1\n",
    "\n",
    "    dic2 = {}\n",
    "    dic2a = {}\n",
    "    dic2b = {}\n",
    "    dic2c = {}\n",
    "    for index, row in reviews.iterrows():\n",
    "        if row['business_id'] in bs_restaurant:\n",
    "            if row['business_id'] not in dic2:\n",
    "                dic2[row['business_id']] = 0\n",
    "            dic2[row['business_id']] += row['funny']\n",
    "\n",
    "    for i in dic2.keys():\n",
    "        if dic2[i] < 4:\n",
    "            dic2a[i] = 1\n",
    "            dic2b[i] = 0\n",
    "            dic2c[i] = 0\n",
    "        elif dic2[i] < 20:\n",
    "            dic2a[i] = 0\n",
    "            dic2b[i] = 1\n",
    "            dic2c[i] = 0\n",
    "        else:\n",
    "            dic2a[i] = 0\n",
    "            dic2b[i] = 0\n",
    "            dic2c[i] = 1\n",
    "\n",
    "    dic3 = {}\n",
    "    dic3a = {}\n",
    "    dic3b = {}\n",
    "    dic3c = {}\n",
    "    for index, row in reviews.iterrows():\n",
    "        if row['business_id'] in bs_restaurant:\n",
    "            if row['business_id'] not in dic3:\n",
    "                dic3[row['business_id']] = 0\n",
    "            dic3[row['business_id']] += row['useful']\n",
    "\n",
    "    for i in dic3.keys():\n",
    "        if dic3[i] < 10:\n",
    "            dic3a[i] = 1\n",
    "            dic3b[i] = 0\n",
    "            dic3c[i] = 0\n",
    "        elif dic3[i] < 35:\n",
    "            dic3a[i] = 0\n",
    "            dic3b[i] = 1\n",
    "            dic3c[i] = 0\n",
    "        else:\n",
    "            dic3a[i] = 0\n",
    "            dic3b[i] = 0\n",
    "            dic3c[i] = 1\n",
    "\n",
    "    dic4 = {}\n",
    "    dic4a = {}\n",
    "    dic4b = {}\n",
    "    dic4c = {}\n",
    "    for index, row in reviews.iterrows():\n",
    "        if row['business_id'] in bs_restaurant:\n",
    "            if row['business_id'] not in dic4:\n",
    "                dic4[row['business_id']] = [0,0]\n",
    "            dic4[row['business_id']][0] += 1\n",
    "            dic4[row['business_id']][1] += len(row['text'])\n",
    "\n",
    "    for i in dic4.keys():\n",
    "        if dic4[i][1]/dic4[i][0] < 475:\n",
    "            dic4a[i] = 1\n",
    "            dic4b[i] = 0\n",
    "            dic4c[i] = 0\n",
    "        elif dic4[i][1]/dic4[i][0] < 650:\n",
    "            dic4a[i] = 0\n",
    "            dic4b[i] = 1\n",
    "            dic4c[i] = 0\n",
    "        else:\n",
    "            dic4a[i] = 0\n",
    "            dic4b[i] = 0\n",
    "            dic4c[i] = 1\n",
    "\n",
    "    cooldf1 = pd.DataFrame(dic1a.values(), index = dic1a.keys(),columns={\"cool_1\"})\n",
    "    cooldf2 = pd.DataFrame(dic1b.values(), index = dic1b.keys(),columns={\"cool_2\"})\n",
    "    cooldf3 = pd.DataFrame(dic1c.values(), index = dic1c.keys(),columns={\"cool_3\"})\n",
    "    df_21 = pd.DataFrame(dic2a.values(), index = dic2a.keys(),columns={\"Funny_1\"})\n",
    "    df_22 = pd.DataFrame(dic2b.values(), index = dic2b.keys(),columns={\"Funny_2\"})\n",
    "    df_23 = pd.DataFrame(dic2c.values(), index = dic2c.keys(),columns={\"Funny_3\"})\n",
    "    df_31 = pd.DataFrame(dic3a.values(), index = dic3a.keys(),columns={\"useful1\"})\n",
    "    df_32 = pd.DataFrame(dic3b.values(), index = dic3b.keys(),columns={\"useful2\"})\n",
    "    df_33 = pd.DataFrame(dic3c.values(), index = dic3c.keys(),columns={\"useful3\"})\n",
    "    df_41 = pd.DataFrame(dic4a.values(), index = dic4a.keys(), columns={'textlength1'})\n",
    "    df_42 = pd.DataFrame(dic4b.values(), index = dic4b.keys(), columns={'textlength2'})\n",
    "    df_43 = pd.DataFrame(dic4c.values(), index = dic4c.keys(), columns={'textlength3'})\n",
    "    result = pd.concat([cooldf1,cooldf2,cooldf3,df_21,df_22,df_23,df_31,df_32,df_33,df_41,df_42,df_43],axis=1)\n",
    "    return result\n"
   ]
  },
  {
   "cell_type": "code",
   "execution_count": 99,
   "metadata": {},
   "outputs": [],
   "source": [
    "# utility matrices for every categorie\n",
    "util_rest = create_utility_nc(bs_restaurant)\n",
    "util_night = create_utility_nc(bs_nightlife)\n",
    "util_auto = create_utility_nc(bs_automotive)\n",
    "util_shop = create_utility_nc(bs_shopping)\n",
    "util_all = create_utility_nc(bs_all)"
   ]
  },
  {
   "cell_type": "code",
   "execution_count": null,
   "metadata": {},
   "outputs": [],
   "source": []
  },
  {
   "cell_type": "code",
   "execution_count": 100,
   "metadata": {},
   "outputs": [],
   "source": [
    "def extract_categories(businesses):\n",
    "    \"\"\"Create an unfolded genre dataframe. Unpacks categories seprated by a ',' into seperate rows.\n",
    "\n",
    "    Arguments:\n",
    "    movies -- a dataFrame containing at least the columns 'business_id' and 'categories' \n",
    "              where categories are seprated by ','\n",
    "    \"\"\"\n",
    "    businesses = businesses.drop(businesses[businesses['categories'].isna()].index)\n",
    "    categories_m = businesses.apply(lambda row: pd.Series([row['business_id']] + row['categories'].lower().split(\",\")), axis=1)\n",
    "    stack_categories = categories_m.set_index(0).stack()\n",
    "    df_stack_categories = stack_categories.to_frame()\n",
    "    df_stack_categories['business_id'] = stack_categories.index.droplevel(1)\n",
    "    df_stack_categories.columns = ['categorie', 'business_id']\n",
    "    return df_stack_categories.reset_index()[['business_id', 'categorie']]\n",
    "\n",
    "def pivot_categories(df):\n",
    "    \"\"\"Create a one-hot encoded matrix for categories.\n",
    "    \n",
    "    Arguments:\n",
    "    df -- a dataFrame containing at least the columns 'business_id' and 'categories'\n",
    "    \n",
    "    Output:\n",
    "    a matrix containing '0' or '1' in each cell.\n",
    "    1: the business has the categorie\n",
    "    0: the business does not have the categorie\n",
    "    \"\"\"\n",
    "    return df.pivot_table(index = 'business_id', columns = 'categorie', aggfunc = 'size', fill_value=0)\n",
    "\n",
    "def categorie_splitter(tags):\n",
    "    subset_ids = business_categories[business_categories['categorie'].isin(tags)]['business_id']\n",
    "    subset = businesses[businesses['business_id'].isin(subset_ids)]\n",
    "    subset_categories = extract_categories(subset)\n",
    "    subset_categories['categorie'] = subset_categories['categorie'].apply(lambda x: x.strip())\n",
    "    return subset_categories\n",
    "\n",
    "def utility_maker(tags):\n",
    "    categories = categorie_splitter(tags)\n",
    "    utility = pivot_categories(categories)\n",
    "    return utility"
   ]
  },
  {
   "cell_type": "code",
   "execution_count": null,
   "metadata": {
    "scrolled": true
   },
   "outputs": [],
   "source": []
  },
  {
   "cell_type": "code",
   "execution_count": 101,
   "metadata": {
    "scrolled": true
   },
   "outputs": [],
   "source": [
    "def create_similarity_matrix_jaccard(matrix):\n",
    "    m11 = matrix @ matrix.T\n",
    "    m10 = pd.DataFrame(matrix.sum(axis = 1).values + np.zeros(m11.shape), index = m11.index, columns = m11.index)\n",
    "    m01 = m10.T\n",
    "    return m11/(m01 + m10 - m11)\n",
    "\n",
    "\n",
    "similarity_rest = create_similarity_matrix_jaccard(util_rest)\n",
    "similarity_all = create_similarity_matrix_jaccard(util_all)\n",
    "similarity_night = create_similarity_matrix_jaccard(util_night)\n",
    "similarity_shop = create_similarity_matrix_jaccard(util_shop)\n",
    "similarity_auto = create_similarity_matrix_jaccard(util_auto)\n"
   ]
  },
  {
   "cell_type": "code",
   "execution_count": 102,
   "metadata": {},
   "outputs": [],
   "source": [
    "def split_data(data, d = 0.75):\n",
    "    \"\"\"Split data in a training and test set.\n",
    "    \n",
    "    Arguments:\n",
    "    data -- any dataFrame.\n",
    "    d    -- the fraction of data in the training set\n",
    "    \"\"\"\n",
    "    np.random.seed(seed=5)\n",
    "    mask_test = np.random.rand(data.shape[0]) < d\n",
    "    return data[mask_test], data[~mask_test]\n",
    "\n",
    "def pivot_ratings(ratings):\n",
    "    \"\"\"Creates a utility matrix for user ratings for businesses\n",
    "    \n",
    "    Arguments:\n",
    "    df -- a dataFrame containing at least the columns 'user_id' and 'business_id'\n",
    "    \n",
    "    Output:\n",
    "    a matrix containing a rating in each cell. np.nan means that the user did not rate the business\n",
    "    \"\"\"\n",
    "    ratings.drop_duplicates(['business_id', 'user_id'], keep='first', inplace=True)      \n",
    "    return ratings.pivot(values='stars', columns='user_id', index='business_id')"
   ]
  },
  {
   "cell_type": "code",
   "execution_count": 103,
   "metadata": {},
   "outputs": [
    {
     "name": "stderr",
     "output_type": "stream",
     "text": [
      "/home/jurriaan/.local/lib/python3.6/site-packages/ipykernel_launcher.py:21: SettingWithCopyWarning: \n",
      "A value is trying to be set on a copy of a slice from a DataFrame\n",
      "\n",
      "See the caveats in the documentation: http://pandas.pydata.org/pandas-docs/stable/indexing.html#indexing-view-versus-copy\n"
     ]
    }
   ],
   "source": [
    "df_ratings_training, df_ratings_test = split_data(reviews, d=0.75)\n",
    "\n",
    "# only get reviews of businesses within the top categories\n",
    "ratings_training_rest = df_ratings_training[df_ratings_training['business_id'].isin(util_rest.index)]\n",
    "utility_ratings_rest = pivot_ratings(ratings_training_rest)\n",
    "\n",
    "ratings_training_all = df_ratings_training[df_ratings_training['business_id'].isin(util_all.index)]\n",
    "utility_ratings_all = pivot_ratings(ratings_training_all)\n",
    "\n",
    "ratings_training_night = df_ratings_training[df_ratings_training['business_id'].isin(util_night.index)]\n",
    "utility_ratings_night = pivot_ratings(ratings_training_night)\n",
    "\n",
    "ratings_training_auto = df_ratings_training[df_ratings_training['business_id'].isin(util_auto.index)]\n",
    "utility_ratings_auto = pivot_ratings(ratings_training_auto)\n",
    "\n",
    "ratings_training_shop = df_ratings_training[df_ratings_training['business_id'].isin(util_shop.index)]\n",
    "utility_ratings_shop = pivot_ratings(ratings_training_shop)\n"
   ]
  },
  {
   "cell_type": "code",
   "execution_count": 104,
   "metadata": {},
   "outputs": [],
   "source": [
    "ratings_test_restaurants = df_ratings_test[df_ratings_test['business_id'].isin(util_rest.index)]\n",
    "ratings_test_nightlife = df_ratings_test[df_ratings_test['business_id'].isin(util_night.index)]\n",
    "ratings_test_shopping = df_ratings_test[df_ratings_test['business_id'].isin(util_shop.index)]\n",
    "ratings_test_automotive = df_ratings_test[df_ratings_test['business_id'].isin(util_auto.index)]\n",
    "ratings_test_all = df_ratings_test[df_ratings_test['business_id'].isin(util_all.index)]"
   ]
  },
  {
   "cell_type": "code",
   "execution_count": 105,
   "metadata": {},
   "outputs": [],
   "source": [
    "def predict_ratings(similarity, utility, to_predict):\n",
    "    \"\"\"Predicts the predicted rating for the input test data.\n",
    "    \n",
    "    Arguments:\n",
    "    similarity -- a dataFrame that describes the similarity between items\n",
    "    utility    -- a dataFrame that contains a rating for each user (columns) and each business (rows). \n",
    "                  If a user did not rate a business the value np.nan is assumed. \n",
    "    to_predict -- A dataFrame containing at least the columns movieId and userId for which to do the predictions\n",
    "    \"\"\"\n",
    "    # copy input (don't overwrite)\n",
    "    ratings_test_c = to_predict.copy()\n",
    "    # apply prediction to each row\n",
    "    ratings_test_c['predicted rating'] = to_predict.apply(lambda row: predict_ids(similarity, utility, row['user_id'], row['business_id']), axis=1)\n",
    "    return ratings_test_c.dropna()\n",
    "\n",
    "### Helper functions for predict_ratings_item_based ###\n",
    "\n",
    "def predict_ids(similarity, utility, userId, itemId):\n",
    "    # select right series from matrices and compute\n",
    "    if userId in utility.columns and itemId in similarity.index:\n",
    "        return predict_vectors(utility.loc[:,userId], similarity[itemId])\n",
    "    return 0\n",
    "\n",
    "def predict_vectors(user_ratings, similarities):\n",
    "    # select only businesses actually rated by user\n",
    "    relevant_ratings = user_ratings.dropna()\n",
    "    \n",
    "    # select corresponding similarities\n",
    "    similarities_s = similarities[relevant_ratings.index]\n",
    "    \n",
    "    # select neighborhood\n",
    "    similarities_s = similarities_s[similarities_s > 0.0]\n",
    "    relevant_ratings = relevant_ratings[similarities_s.index]\n",
    "    \n",
    "    # if there's nothing left return a prediction of 0\n",
    "    norm = similarities_s.sum()\n",
    "    if(norm == 0):\n",
    "        return 0\n",
    "    \n",
    "    # compute a weighted average (i.e. neighborhood is all) \n",
    "    return np.dot(relevant_ratings, similarities_s)/norm\n"
   ]
  },
  {
   "cell_type": "code",
   "execution_count": 106,
   "metadata": {},
   "outputs": [],
   "source": [
    "predicted_restaurants = predict_ratings(similarity_rest, utility_ratings_rest, ratings_test_restaurants[['user_id', 'business_id', 'stars']])\n",
    "predicted_nightlife = predict_ratings(similarity_night, utility_ratings_night, ratings_test_nightlife[['user_id', 'business_id', 'stars']])\n",
    "predicted_shopping = predict_ratings(similarity_shop, utility_ratings_shop, ratings_test_shopping[['user_id', 'business_id', 'stars']])\n",
    "predicted_automotive = predict_ratings(similarity_auto, utility_ratings_auto, ratings_test_automotive[['user_id', 'business_id', 'stars']])\n",
    "predicted_all = predict_ratings(similarity_all, utility_ratings_all, ratings_test_all[['user_id', 'business_id', 'stars']])\n",
    "\n",
    "\n",
    "def nul_filter(row):\n",
    "    if row['predicted rating'] == 0:\n",
    "        business = businesses[businesses['business_id'] == row['business_id']]\n",
    "        avg = business['stars'].values\n",
    "        row['predicted rating'] = avg[0]\n",
    "    return row\n",
    "\n",
    "predicted_restaurants = predicted_restaurants.apply(lambda row: nul_filter(row), axis=1)\n",
    "predicted_nightlife = predicted_nightlife.apply(lambda row: nul_filter(row), axis=1)\n",
    "predicted_shopping = predicted_shopping.apply(lambda row: nul_filter(row), axis=1)\n",
    "predicted_automotive = predicted_automotive.apply(lambda row: nul_filter(row), axis=1)\n",
    "predicted_all = predicted_new_categories.apply(lambda row: nul_filter(row), axis=1)\n",
    "\n",
    "#predicted_restaurants = predicted_restaurants[predicted_restaurants['predicted rating'] != 0]\n",
    "#predicted_nightlife = predicted_nightlife[predicted_nightlife['predicted rating'] != 0]\n",
    "#predicted_shopping = predicted_shopping[predicted_shopping['predicted rating'] != 0]\n",
    "#predicted_automotive = predicted_automotive[predicted_automotive['predicted rating'] != 0]\n"
   ]
  },
  {
   "cell_type": "code",
   "execution_count": null,
   "metadata": {},
   "outputs": [],
   "source": []
  },
  {
   "cell_type": "code",
   "execution_count": 107,
   "metadata": {},
   "outputs": [
    {
     "name": "stdout",
     "output_type": "stream",
     "text": [
      "mse   | rest  | nightli | shop  | auto | all\n",
      "------+-------+---------+----- -+--------+--------\n",
      "normal| 1.816 |  1.805 | 1.693| 2.334 | 1.805\n"
     ]
    }
   ],
   "source": [
    "def mse(predicted_ratings):\n",
    "    '''Bereken de mean squared error van de voorspelde ratings'''\n",
    "    predicted_ratings['difference'] = predicted_ratings['stars'] - predicted_ratings['predicted rating']\n",
    "    error = sum((predicted_ratings['difference'].dropna())**2) / len(predicted_ratings)\n",
    "    return error\n",
    "\n",
    "mse_restaurants = mse(predicted_restaurants)\n",
    "mse_nightlife = mse(predicted_nightlife)\n",
    "mse_shopping = mse(predicted_shopping)\n",
    "mse_automotive = mse(predicted_automotive)\n",
    "mse_nc = mse(predicted_all)\n",
    "\n",
    "#mse_restaurants_filtered = mse(predicted_restaurants[predicted_restaurants['predicted rating'] != 0])\n",
    "#mse_nightlife_filtered = mse(predicted_nightlife[predicted_nightlife['predicted rating'] != 0])\n",
    "#mse_shopping_filtered = mse(predicted_shopping[predicted_shopping['predicted rating'] != 0])\n",
    "#mse_automotive_filtered = mse(predicted_automotive[predicted_automotive['predicted rating'] != 0])\n",
    "\n",
    "print('mse   | rest  | nightli | shop  | auto | all')\n",
    "print('------+-------+---------+----- -+--------+--------')\n",
    "print(f'normal| {mse_restaurants:.3f} |  {mse_nightlife:.3f} | {mse_shopping:.3f}| {mse_automotive:.3f} | {mse_nc:.3f}')\n",
    "#print(f'filter| {mse_restaurants_filtered:.3f} |  {mse_nightlife_filtered:.3f}  | {mse_shopping_filtered:.3f} | {mse_automotive_filtered:.3f}')\n",
    "\n",
    "#print(len(predicted_restaurants), len(predicted_restaurants[predicted_restaurants['predicted rating'] != 0]))"
   ]
  },
  {
   "cell_type": "code",
   "execution_count": 108,
   "metadata": {},
   "outputs": [
    {
     "name": "stdout",
     "output_type": "stream",
     "text": [
      "mse   | rest  | nightli | shop  | auto | all\n",
      "------+-------+---------+----- -+----+----\n",
      "normal| 1.816 |  1.805  | 1.693 | 2.334 | 1.805\n",
      "random| 4.605 |  4.408  | 4.888 | 5.433 | 4.430\n"
     ]
    }
   ],
   "source": [
    "def predict_random(df):\n",
    "    predicted_random = df.copy()[['user_id', 'business_id', 'stars']]\n",
    "    predicted_random['predicted rating'] = predicted_random.apply(lambda x : np.random.uniform(0.5, 5.0), axis=1)\n",
    "    return predicted_random\n",
    "\n",
    "random_restaurants = predict_random(predicted_restaurants)\n",
    "random_nightlife = predict_random(predicted_nightlife)\n",
    "random_shopping = predict_random(predicted_shopping)\n",
    "random_automotive = predict_random(predicted_automotive)\n",
    "random_all = predict_random(predicted_all)\n",
    "\n",
    "mse_restaurants_random = mse(random_restaurants)\n",
    "mse_nightlife_random = mse(random_nightlife)\n",
    "mse_shopping_random = mse(random_shopping)\n",
    "mse_automotive_random = mse(random_automotive)\n",
    "mse_all_random = mse(random_all)\n",
    "\n",
    "print('mse   | rest  | nightli | shop  | auto | all')\n",
    "print('------+-------+---------+----- -+----+----')\n",
    "print(f'normal| {mse_restaurants:.3f} |  {mse_nightlife:.3f}  | {mse_shopping:.3f} | {mse_automotive:.3f} | {mse_nc:.3f}')\n",
    "print(f'random| {mse_restaurants_random:.3f} |  {mse_nightlife_random:.3f}  | {mse_shopping_random:.3f} | {mse_automotive_random:.3f} | {mse_all_random:.3f}')"
   ]
  },
  {
   "cell_type": "code",
   "execution_count": 138,
   "metadata": {},
   "outputs": [
    {
     "name": "stdout",
     "output_type": "stream",
     "text": [
      "mse   | rest  | nightli | shop  | auto | all\n",
      "------+-------+---------+------+--------\n",
      "normal| 1.816 |  1.805  | 1.693 | 2.334 | 1.805\n",
      "random| 4.605 |  4.408  | 4.888 | 5.433 | 4.430\n",
      "mean  | 1.476 |  1.547  | 1.546 | 2.902 | 1.547\n"
     ]
    }
   ],
   "source": [
    "def predict_mean(df):\n",
    "    predicted_item_mean = df.copy()[['user_id', 'business_id', 'stars']]\n",
    "    group = df_ratings_training.groupby('business_id')\n",
    "    ratings = group['stars'].aggregate(list).apply(np.mean)\n",
    "    predicted_item_mean = predicted_item_mean.join(ratings, on='business_id', how='left', lsuffix='', rsuffix='2')\n",
    "    predicted_item_mean = predicted_item_mean.rename(columns={'stars2': 'predicted rating'})\n",
    "    \n",
    "    return predicted_item_mean\n",
    "\n",
    "mean_restaurants = predict_mean(predicted_restaurants)\n",
    "mean_nightlife = predict_mean(predicted_nightlife)\n",
    "mean_shopping = predict_mean(predicted_shopping)\n",
    "mean_automotive = predict_mean(predicted_automotive)\n",
    "mean_nc = predict_mean(predicted_all)\n",
    "\n",
    "\n",
    "mse_restaurants_mean = mse(mean_restaurants)\n",
    "mse_nightlife_mean = mse(mean_nightlife)\n",
    "mse_shopping_mean = mse(mean_shopping)\n",
    "mse_automotive_mean = mse(mean_automotive)\n",
    "mse_nc_mean = mse(mean_nc)\n",
    "\n",
    "\n",
    "print('mse   | rest  | nightli | shop  | auto | all')\n",
    "print('------+-------+---------+------+--------')\n",
    "print(f'normal| {mse_restaurants:.3f} |  {mse_nightlife:.3f}  | {mse_shopping:.3f} | {mse_automotive:.3f} | {mse_nc:.3f}')\n",
    "print(f'random| {mse_restaurants_random:.3f} |  {mse_nightlife_random:.3f}  | {mse_shopping_random:.3f} | {mse_automotive_random:.3f} | {mse_all_random:.3f}')\n",
    "print(f'mean  | {mse_restaurants_mean:.3f} |  {mse_nightlife_mean:.3f}  | {mse_shopping_mean:.3f} | {mse_automotive_mean:.3f} | {mse_nc_mean:.3f}')"
   ]
  },
  {
   "cell_type": "code",
   "execution_count": 110,
   "metadata": {},
   "outputs": [
    {
     "name": "stdout",
     "output_type": "stream",
     "text": [
      "restaurants:\n",
      "Test items : 23041\n",
      "Recommended: 20642\n",
      "Hidden     : 2399\n",
      "\n",
      "shopping:\n",
      "Test items : 1462\n",
      "Recommended: 1243\n",
      "Hidden     : 219\n",
      "\n",
      "nightlife:\n",
      "Test items : 8684\n",
      "Recommended: 7859\n",
      "Hidden     : 825\n",
      "\n",
      "automotive:\n",
      "Test items : 510\n",
      "Recommended: 387\n",
      "Hidden     : 123\n",
      "\n",
      "new categories:\n",
      "Test items : 8684\n",
      "Recommended: 7859\n",
      "Hidden     : 825\n"
     ]
    }
   ],
   "source": [
    "def recommended(predictions, treshold):\n",
    "    '''Selecteer bedrijven die je wilt aanbevelen, dus met een voorspelde rating boven de treshold'''\n",
    "    recommended_businesses = predictions.loc[predictions['predicted rating'] >= treshold]\n",
    "    return recommended_businesses\n",
    "    \n",
    "\n",
    "def hidden(predictions, treshold):\n",
    "    '''Selecteer bedrijven die je niet wilt aanbevelen, dus met een voorspelde rating beneden de treshold'''\n",
    "    hidden_businesses = predictions.loc[predictions['predicted rating'] < treshold]\n",
    "    return hidden_businesses\n",
    "    \n",
    "    \n",
    "treshold_recommended = 3 # Boven welke voorspelde rating wil je bedrijven aanbevelen\n",
    "\n",
    "recommended_restaurants = recommended(predicted_restaurants, treshold_recommended)\n",
    "hidden_restaurants = hidden(predicted_restaurants, treshold_recommended)\n",
    "\n",
    "recommended_nightlife = recommended(predicted_nightlife, treshold_recommended)\n",
    "hidden_nightlife = hidden(predicted_nightlife, treshold_recommended)\n",
    "\n",
    "recommended_shopping = recommended(predicted_shopping, treshold_recommended)\n",
    "hidden_shopping = hidden(predicted_shopping, treshold_recommended)\n",
    "\n",
    "recommended_automotive = recommended(predicted_automotive, treshold_recommended)\n",
    "hidden_automotive = hidden(predicted_automotive, treshold_recommended)\n",
    "\n",
    "recommended_nc = recommended(predicted_nc, treshold_recommended)\n",
    "hidden_nc = hidden(predicted_nc, treshold_recommended)\n",
    "\n",
    "print('restaurants:')\n",
    "print(f'Test items : {predicted_restaurants.shape[0]}')\n",
    "print(f'Recommended: {recommended_restaurants.shape[0]}')\n",
    "print(f'Hidden     : {hidden_restaurants.shape[0]}')\n",
    "print()\n",
    "print('shopping:')\n",
    "print(f'Test items : {predicted_shopping.shape[0]}')\n",
    "print(f'Recommended: {recommended_shopping.shape[0]}')\n",
    "print(f'Hidden     : {hidden_shopping.shape[0]}')\n",
    "print()\n",
    "print('nightlife:')\n",
    "print(f'Test items : {predicted_nightlife.shape[0]}')\n",
    "print(f'Recommended: {recommended_nightlife.shape[0]}')\n",
    "print(f'Hidden     : {hidden_nightlife.shape[0]}')\n",
    "print()\n",
    "print('automotive:')\n",
    "print(f'Test items : {predicted_automotive.shape[0]}')\n",
    "print(f'Recommended: {recommended_automotive.shape[0]}')\n",
    "print(f'Hidden     : {hidden_automotive.shape[0]}')\n",
    "print()\n",
    "print('new categories:')\n",
    "print(f'Test items : {predicted_nc.shape[0]}')\n",
    "print(f'Recommended: {recommended_nc.shape[0]}')\n",
    "print(f'Hidden     : {hidden_nc.shape[0]}')"
   ]
  },
  {
   "cell_type": "code",
   "execution_count": 111,
   "metadata": {},
   "outputs": [],
   "source": [
    "def used(predictions, treshold):\n",
    "    used_movies = predictions.loc[predictions['stars'] >= treshold]\n",
    "    return used_movies\n",
    "\n",
    "    \n",
    "def unused(predictions, treshold):\n",
    "    unused_movies = predictions.loc[predictions['stars'] < treshold]\n",
    "    return unused_movies\n",
    "    \n",
    "    \n",
    "treshold_used = 4.0\n",
    "used_restaurants = used(predicted_restaurants, treshold_used)\n",
    "unused_restaurants = unused(predicted_restaurants, treshold_used)\n",
    "\n",
    "used_nightlife = used(predicted_nightlife, treshold_used)\n",
    "unused_nightlife = unused(predicted_nightlife, treshold_used)\n",
    "\n",
    "used_shopping = used(predicted_shopping, treshold_used)\n",
    "unused_shopping = unused(predicted_shopping, treshold_used)\n",
    "\n",
    "used_automotive = used(predicted_automotive, treshold_used)\n",
    "unused_automotive = unused(predicted_automotive, treshold_used)\n"
   ]
  },
  {
   "cell_type": "code",
   "execution_count": 112,
   "metadata": {},
   "outputs": [
    {
     "data": {
      "text/html": [
       "<div>\n",
       "<style scoped>\n",
       "    .dataframe tbody tr th:only-of-type {\n",
       "        vertical-align: middle;\n",
       "    }\n",
       "\n",
       "    .dataframe tbody tr th {\n",
       "        vertical-align: top;\n",
       "    }\n",
       "\n",
       "    .dataframe thead th {\n",
       "        text-align: right;\n",
       "    }\n",
       "</style>\n",
       "<table border=\"1\" class=\"dataframe\">\n",
       "  <thead>\n",
       "    <tr style=\"text-align: right;\">\n",
       "      <th></th>\n",
       "      <th>used</th>\n",
       "      <th>unused</th>\n",
       "    </tr>\n",
       "  </thead>\n",
       "  <tbody>\n",
       "    <tr>\n",
       "      <th>recommended</th>\n",
       "      <td>14725</td>\n",
       "      <td>5917</td>\n",
       "    </tr>\n",
       "    <tr>\n",
       "      <th>hidden</th>\n",
       "      <td>1067</td>\n",
       "      <td>1332</td>\n",
       "    </tr>\n",
       "  </tbody>\n",
       "</table>\n",
       "</div>"
      ],
      "text/plain": [
       "              used  unused\n",
       "recommended  14725    5917\n",
       "hidden        1067    1332"
      ]
     },
     "metadata": {},
     "output_type": "display_data"
    }
   ],
   "source": [
    "def confusion(recommended, hidden, used, unused):\n",
    "    true_positives = len(recommended.index.intersection(used.index))\n",
    "    false_positives = len(recommended.index.intersection(unused.index))\n",
    "    true_negatives = len(hidden.index.intersection(unused.index))\n",
    "    false_negatives = len(hidden.index.intersection(used.index))\n",
    "    \n",
    "    data = {'used': [true_positives, false_negatives],\n",
    "            'unused': [false_positives, true_negatives]}\n",
    "    \n",
    "    confusion_matrix = pd.DataFrame(data, index = ['recommended', 'hidden'])\n",
    "\n",
    "    return confusion_matrix\n",
    "    \n",
    "    \n",
    "confusion_restaurants = confusion(recommended_restaurants, hidden_restaurants, used_restaurants, unused_restaurants)\n",
    "confusion_nightlife = confusion(recommended_nightlife, hidden_nightlife, used_nightlife, unused_nightlife)\n",
    "confusion_shopping = confusion(recommended_shopping, hidden_shopping, used_shopping, unused_shopping)\n",
    "confusion_automotive = confusion(recommended_automotive, hidden_automotive, used_automotive, unused_automotive)\n",
    "display(confusion_restaurants)"
   ]
  },
  {
   "cell_type": "code",
   "execution_count": 113,
   "metadata": {},
   "outputs": [
    {
     "name": "stdout",
     "output_type": "stream",
     "text": [
      "precision for user based prediction: 0.71\n",
      "precision for user based prediction: 0.68\n",
      "precision for user based prediction: 0.76\n",
      "precision for user based prediction: 0.74\n"
     ]
    }
   ],
   "source": [
    "def precision(confusion_matrix):\n",
    "    true_positives = confusion_matrix['used']['recommended']\n",
    "    false_positives = confusion_matrix['unused']['recommended']\n",
    "    precision = true_positives / (true_positives + false_positives)\n",
    "    return precision\n",
    "    \n",
    "\n",
    "precision_restaurants = precision(confusion_restaurants)\n",
    "precision_nightlife = precision(confusion_nightlife)\n",
    "precision_shopping = precision(confusion_shopping)\n",
    "precision_automotive = precision(confusion_automotive)\n",
    "\n",
    "print(f'precision for user based prediction: {precision_restaurants:.2f}')\n",
    "print(f'precision for user based prediction: {precision_nightlife:.2f}')\n",
    "print(f'precision for user based prediction: {precision_shopping:.2f}')\n",
    "print(f'precision for user based prediction: {precision_automotive:.2f}')"
   ]
  },
  {
   "cell_type": "code",
   "execution_count": 114,
   "metadata": {},
   "outputs": [
    {
     "name": "stdout",
     "output_type": "stream",
     "text": [
      "recall for content based prediction: 0.93\n",
      "recall for content based prediction: 0.94\n",
      "recall for content based prediction: 0.92\n",
      "recall for content based prediction: 0.89\n"
     ]
    }
   ],
   "source": [
    "def recall(confusion_matrix):\n",
    "    true_positives = confusion_matrix['used']['recommended']\n",
    "    false_negatives = confusion_matrix['used']['hidden']\n",
    "    recall = true_positives / (true_positives + false_negatives)\n",
    "    return recall\n",
    "    \n",
    "recall_restaurants = recall(confusion_restaurants)\n",
    "recall_nightlife = recall(confusion_nightlife)\n",
    "recall_shopping = recall(confusion_shopping)\n",
    "recall_automotive = recall(confusion_automotive)\n",
    "\n",
    "print(f'recall for content based prediction: {recall_restaurants:.2f}')\n",
    "print(f'recall for content based prediction: {recall_nightlife:.2f}')\n",
    "print(f'recall for content based prediction: {recall_shopping:.2f}')\n",
    "print(f'recall for content based prediction: {recall_automotive:.2f}')"
   ]
  },
  {
   "cell_type": "code",
   "execution_count": 115,
   "metadata": {},
   "outputs": [
    {
     "name": "stdout",
     "output_type": "stream",
     "text": [
      "           | precision | recall\n",
      "content based |      0.77 |   0.70\n",
      "random     |      0.67 |   0.27\n",
      "mean       |      0.80 |   0.73\n"
     ]
    }
   ],
   "source": [
    "treshold_recommended = 3.75\n",
    "treshold_used = 4.0\n",
    "\n",
    "def evaluation(predictions, treshold_recommended, treshold_used):\n",
    "    recommended_items = recommended(predictions, treshold_recommended)\n",
    "    hidden_items = hidden(predictions, treshold_recommended)\n",
    "    used_items = used(predictions, treshold_used)\n",
    "    unused_items = unused(predictions, treshold_used)\n",
    "    \n",
    "    confusion_matrix = confusion(recommended_items, hidden_items, used_items, unused_items)\n",
    "    \n",
    "    precision_value = precision(confusion_matrix)\n",
    "    recall_value = recall(confusion_matrix)\n",
    "    \n",
    "    return precision_value, recall_value\n",
    "\n",
    "precision_restaurants, recall_restaurants = evaluation(predicted_restaurants, treshold_recommended, treshold_used)\n",
    "precision_random, recall_random = evaluation(random_restaurants, treshold_recommended, treshold_used)\n",
    "precision_item_mean, recall_item_mean = evaluation(mean_restaurants, treshold_recommended, treshold_used)\n",
    "\n",
    "print('           | precision | recall')\n",
    "print(f'content based |      {precision_restaurants:.2f} |   {recall_restaurants:.2f}')\n",
    "print(f'random     |      {precision_random:.2f} |   {recall_random:.2f}')\n",
    "print(f'mean       |      {precision_item_mean:.2f} |   {recall_item_mean:.2f}')"
   ]
  },
  {
   "cell_type": "code",
   "execution_count": 143,
   "metadata": {},
   "outputs": [
    {
     "data": {
      "image/png": "[encoded data removed]",
      "text/plain": [
       "<Figure size 432x288 with 1 Axes>"
      ]
     },
     "metadata": {
      "needs_background": "light"
     },
     "output_type": "display_data"
    },
    {
     "data": {
      "image/png": "[encoded data removed]",
      "text/plain": [
       "<Figure size 432x288 with 1 Axes>"
      ]
     },
     "metadata": {
      "needs_background": "light"
     },
     "output_type": "display_data"
    },
    {
     "data": {
      "image/png": "[encoded data removed]",
      "text/plain": [
       "<Figure size 432x288 with 1 Axes>"
      ]
     },
     "metadata": {
      "needs_background": "light"
     },
     "output_type": "display_data"
    },
    {
     "data": {
      "image/png": "[encoded data removed]",
      "text/plain": [
       "<Figure size 432x288 with 1 Axes>"
      ]
     },
     "metadata": {
      "needs_background": "light"
     },
     "output_type": "display_data"
    }
   ],
   "source": [
    "treshold_used = 3.75\n",
    "treshold_recommended_list = np.arange(2.5, 5.0, 0.5)\n",
    "\n",
    "def curve(categorie_ib, categorie_random, categorie_mean):\n",
    "    precision_item_based_list = []\n",
    "    precision_random_list = []\n",
    "    precision_item_mean_list = []\n",
    "\n",
    "    recall_item_based_list = []\n",
    "    recall_random_list = []\n",
    "    recall_item_mean_list = []\n",
    "\n",
    "    for treshold_recommended in treshold_recommended_list: \n",
    "        precision_item_based, recall_item_based = evaluation(categorie_ib, treshold_recommended, treshold_used)\n",
    "        precision_item_based_list.append(precision_item_based)\n",
    "        recall_item_based_list.append(recall_item_based)\n",
    "        plt.text(recall_item_based, precision_item_based, treshold_recommended)\n",
    "\n",
    "        precision_random, recall_random = evaluation(categorie_random, treshold_recommended, treshold_used)\n",
    "        precision_random_list.append(precision_random)\n",
    "        recall_random_list.append(recall_random)\n",
    "        plt.text(recall_random, precision_random, treshold_recommended)\n",
    "\n",
    "        precision_item_mean, recall_item_mean = evaluation(categorie_mean, treshold_recommended, treshold_used)\n",
    "        precision_item_mean_list.append(precision_item_mean)\n",
    "        recall_item_mean_list.append(recall_item_mean)\n",
    "        plt.text(recall_item_mean, precision_item_mean, treshold_recommended)\n",
    "    \n",
    "    return precision_item_based_list, precision_random_list, precision_item_mean_list, recall_item_based_list, recall_random_list, recall_item_mean_list\n",
    "\n",
    "# plot voor restaurants\n",
    "precision_item_based_list, precision_random_list, precision_item_mean_list, recall_item_based_list, recall_random_list, recall_item_mean_list = curve(predicted_restaurants, random_restaurants, mean_restaurants)\n",
    "plt.plot(recall_item_based_list, precision_item_based_list, 'r-')\n",
    "plt.plot(recall_random_list, precision_random_list, 'b-')\n",
    "plt.plot(recall_item_mean_list, precision_item_mean_list, 'y-')\n",
    "\n",
    "plt.xlim(0.0, 1.0)\n",
    "plt.ylim(0.3, 1.0)\n",
    "plt.xlabel('recall')\n",
    "plt.ylabel('precision')\n",
    "plt.legend(['content based', 'random', 'item mean'], loc = 'lower left')\n",
    "plt.title('a. Restaurants')\n",
    "plt.show()\n",
    "\n",
    "# plot voor nightlife\n",
    "precision_item_based_list, precision_random_list, precision_item_mean_list, recall_item_based_list, recall_random_list, recall_item_mean_list = curve(predicted_nightlife, random_nightlife, mean_nightlife)\n",
    "plt.plot(recall_item_based_list, precision_item_based_list, 'r-')\n",
    "plt.plot(recall_random_list, precision_random_list, 'b-')\n",
    "plt.plot(recall_item_mean_list, precision_item_mean_list, 'y-')\n",
    "\n",
    "plt.xlim(0.0, 1.0)\n",
    "plt.ylim(0.3, 1.0)\n",
    "plt.xlabel('recall')\n",
    "plt.ylabel('precision')\n",
    "plt.legend(['content based', 'random', 'item mean'], loc = 'lower left')\n",
    "plt.title('b. Nightlife')\n",
    "plt.show()\n",
    "\n",
    "# plot voor shopping\n",
    "precision_item_based_list, precision_random_list, precision_item_mean_list, recall_item_based_list, recall_random_list, recall_item_mean_list = curve(predicted_shopping, random_shopping, mean_shopping)\n",
    "plt.plot(recall_item_based_list, precision_item_based_list, 'r-')\n",
    "plt.plot(recall_random_list, precision_random_list, 'b-')\n",
    "plt.plot(recall_item_mean_list, precision_item_mean_list, 'y-')\n",
    "\n",
    "plt.xlim(0.0, 1.0)\n",
    "plt.ylim(0.3, 1.0)\n",
    "plt.xlabel('recall')\n",
    "plt.ylabel('precision')\n",
    "plt.legend(['content based', 'random', 'item mean'], loc = 'lower left')\n",
    "plt.title('c. Shopping')\n",
    "plt.show()\n",
    "\n",
    "# plot voor automotive\n",
    "precision_item_based_list, precision_random_list, precision_item_mean_list, recall_item_based_list, recall_random_list, recall_item_mean_list = curve(predicted_automotive, random_automotive, mean_automotive)\n",
    "plt.plot(recall_item_based_list, precision_item_based_list, 'r-')\n",
    "plt.plot(recall_random_list, precision_random_list, 'b-')\n",
    "plt.plot(recall_item_mean_list, precision_item_mean_list, 'y-')\n",
    "\n",
    "plt.xlim(0.0, 1.0)\n",
    "plt.ylim(0.3, 1.0)\n",
    "plt.xlabel('recall')\n",
    "plt.ylabel('precision')\n",
    "plt.legend(['content based', 'random', 'item mean'], loc = 'lower left')\n",
    "plt.title('d. Automotive')\n",
    "plt.show()"
   ]
  },
  {
   "cell_type": "code",
   "execution_count": 141,
   "metadata": {
    "scrolled": true
   },
   "outputs": [],
   "source": [
    "# Maak een lijst van recommended bedrijven voor elke user en stop in dataframe\n",
    "group_restaurants =  recommended_restaurants.groupby('user_id')\n",
    "recommendations_restaurants = group_restaurants['business_id']\n",
    "recommendations_restaurants = recommendations_restaurants.aggregate(list)\n",
    "recommendations_restaurants = pd.DataFrame(recommendations_restaurants)\n",
    "\n",
    "group_nightlife =  recommended_nightlife.groupby('user_id')\n",
    "recommendations_nightlife = group_nightlife['business_id']\n",
    "recommendations_nightlife = recommendations_nightlife.aggregate(list)\n",
    "recommendations_nightlife = pd.DataFrame(recommendations_nightlife)\n",
    "\n",
    "group_shopping =  recommended_shopping.groupby('user_id')\n",
    "recommendations_shopping = group_shopping['business_id']\n",
    "recommendations_shopping = recommendations_shopping.aggregate(list)\n",
    "recommendations_shopping = pd.DataFrame(recommendations_shopping)\n",
    "\n",
    "group_automotive =  recommended_automotive.groupby('user_id')\n",
    "recommendations_automotive = group_automotive['business_id']\n",
    "recommendations_automotive = recommendations_automotive.aggregate(list)\n",
    "recommendations_automotive = pd.DataFrame(recommendations_automotive)\n"
   ]
  },
  {
   "cell_type": "code",
   "execution_count": 118,
   "metadata": {},
   "outputs": [
    {
     "name": "stdout",
     "output_type": "stream",
     "text": [
      "      | More than 5 recommendations  | Total users that got recommendations:\n",
      "------+------------------------------+--------------------------------------\n",
      "rest  |         608                  |            11977           \n",
      "night |         150                  |            5584           \n",
      "shop  |         13                  |            1037           \n",
      "auto  |         0                  |            372           \n"
     ]
    }
   ],
   "source": [
    "rest = recommendations_restaurants['business_id'].apply(lambda x: len(x))\n",
    "night = recommendations_nightlife['business_id'].apply(lambda x: len(x))\n",
    "shop = recommendations_shopping['business_id'].apply(lambda x: len(x))\n",
    "auto = recommendations_automotive['business_id'].apply(lambda x: len(x))\n",
    "\n",
    "print('      | More than 5 recommendations  | Total users that got recommendations:')\n",
    "print('------+------------------------------+--------------------------------------')\n",
    "print(f'rest  |         {len(rest[rest >= 5])}                  |            {len(rest)}           ') \n",
    "print(f'night |         {len(night[night >= 5])}                  |            {len(night)}           ') \n",
    "print(f'shop  |         {len(shop[shop >= 5])}                  |            {len(shop)}           ') \n",
    "print(f'auto  |         {len(auto[auto >= 5])}                  |            {len(auto)}           ') \n"
   ]
  },
  {
   "cell_type": "code",
   "execution_count": 119,
   "metadata": {},
   "outputs": [],
   "source": [
    "# Maak een top 5 lijst van bedrijven per catgorie op basis van hun rating\n",
    "restaurants_top5 = businesses[businesses['business_id'].isin(utility_restaurants.index)].sort_values(by='stars', ascending=False)[0:5]\n",
    "nightlife_top5 = businesses[businesses['business_id'].isin(utility_nightlife.index)].sort_values(by='stars', ascending=False)[0:5]\n",
    "shopping_top5 = businesses[businesses['business_id'].isin(utility_shopping.index)].sort_values(by='stars', ascending=False)[0:5]\n",
    "automotive_top5 = businesses[businesses['business_id'].isin(utility_automotive.index)].sort_values(by='stars', ascending=False)[0:5]\n",
    "\n"
   ]
  },
  {
   "cell_type": "code",
   "execution_count": 120,
   "metadata": {},
   "outputs": [
    {
     "data": {
      "text/plain": [
       "Index(['--Awhttr0FhVud5prVpVlA', '--U0loZF9HaSPRzrGuiWLg',\n",
       "       '--amZ_cR9Zgu4B1RrAHJyA', '-0S_XaK3Q_Mesal2Unta2w',\n",
       "       '-0Xu57zrI3Rxi8wGZsnWKQ', '-0cu1eLTYG-TJCer9VVF9A',\n",
       "       '-0x2ov-qcCopv32Imm-TYg', '-14qTFhM3qDTqMbTpYxe3A',\n",
       "       '-1YGFe7qDm2yl43AqCbMNg', '-1eUcYsPzr0K_nw67oohdw',\n",
       "       ...\n",
       "       'zw6YMjaWYgpe0PQQfJbOkg', 'zwOBz9NqMkP5BD29hWn0HQ',\n",
       "       'zxL2Wdz18-Op_fBOSYEhuA', 'zxRHyxQm-32j5Z7Pi7bHCA',\n",
       "       'zxddeTFgG6cZDO4t_1BRwQ', 'zy4NqQpPWNRftutQEhVb1g',\n",
       "       'zyo-ZIF0jxeZh88gXL45Fw', 'zyoSjBxxWkE7spafdUVeJw',\n",
       "       'zzDln8w4vq4ePQgnV0tWFA', 'zzL4E_gdoSCtgNhW4BPY8w'],\n",
       "      dtype='object', name='user_id', length=11369)"
      ]
     },
     "metadata": {},
     "output_type": "display_data"
    }
   ],
   "source": [
    "# Locate the users that have less than 20 recommendations\n",
    "users_missing_restaurants = recommendations_restaurants.loc[recommendations_restaurants['business_id'].map(len) < 5].index\n",
    "users_missing_nightlife = recommendations_nightlife.loc[recommendations_nightlife['business_id'].map(len) < 5].index\n",
    "users_missing_shopping = recommendations_shopping.loc[recommendations_shopping['business_id'].map(len) < 5].index\n",
    "users_missing_automotive = recommendations_automotive.loc[recommendations_automotive['business_id'].map(len) < 5].index\n",
    "\n",
    "display(users_missing_restaurants)\n",
    "\n",
    "def filling_up(business_top5, amount_missing):\n",
    "    '''Selecteert het missende aantal bedrijven uit de top 20 van bedrijven'''\n",
    "    additional_businesses = business_top5.sample(amount_missing)['business_id'].tolist()\n",
    "    return additional_businesses"
   ]
  },
  {
   "cell_type": "code",
   "execution_count": 121,
   "metadata": {},
   "outputs": [
    {
     "data": {
      "text/html": [
       "<div>\n",
       "<style scoped>\n",
       "    .dataframe tbody tr th:only-of-type {\n",
       "        vertical-align: middle;\n",
       "    }\n",
       "\n",
       "    .dataframe tbody tr th {\n",
       "        vertical-align: top;\n",
       "    }\n",
       "\n",
       "    .dataframe thead th {\n",
       "        text-align: right;\n",
       "    }\n",
       "</style>\n",
       "<table border=\"1\" class=\"dataframe\">\n",
       "  <thead>\n",
       "    <tr style=\"text-align: right;\">\n",
       "      <th></th>\n",
       "      <th>business_id</th>\n",
       "      <th>additional recommendations</th>\n",
       "    </tr>\n",
       "    <tr>\n",
       "      <th>user_id</th>\n",
       "      <th></th>\n",
       "      <th></th>\n",
       "    </tr>\n",
       "  </thead>\n",
       "  <tbody>\n",
       "    <tr>\n",
       "      <th>--Awhttr0FhVud5prVpVlA</th>\n",
       "      <td>[K6fYrrTorlpXmqutRcrHzg]</td>\n",
       "      <td>[Dc8ygQx5gXHoqYAOmRydNg, Jd7pyrfNdffLM5nMcP4IP...</td>\n",
       "    </tr>\n",
       "    <tr>\n",
       "      <th>--U0loZF9HaSPRzrGuiWLg</th>\n",
       "      <td>[YNI26xBkdOzI1TMGmIcEaw]</td>\n",
       "      <td>[F7tBX4pRGhWxAXr4Ld7dzQ, Jd7pyrfNdffLM5nMcP4IP...</td>\n",
       "    </tr>\n",
       "    <tr>\n",
       "      <th>--amZ_cR9Zgu4B1RrAHJyA</th>\n",
       "      <td>[LNsZJP6jZ11e0tDljOLPiQ, AbPQf-X7awuPFDULiJ43bg]</td>\n",
       "      <td>[PiQ11tDiQMxvFGbKZpbkSw, Jd7pyrfNdffLM5nMcP4IP...</td>\n",
       "    </tr>\n",
       "    <tr>\n",
       "      <th>-0S_XaK3Q_Mesal2Unta2w</th>\n",
       "      <td>[wftmt-n8OUA4Ng3bWWH5dw, BLfCMa2yWNo70D3wwAxwo...</td>\n",
       "      <td>[PiQ11tDiQMxvFGbKZpbkSw, mfKYB-iZOZLgPjnYo06fM...</td>\n",
       "    </tr>\n",
       "    <tr>\n",
       "      <th>-0Xu57zrI3Rxi8wGZsnWKQ</th>\n",
       "      <td>[meXjqyhTNLFmknY39y2sMg]</td>\n",
       "      <td>[F7tBX4pRGhWxAXr4Ld7dzQ, Jd7pyrfNdffLM5nMcP4IP...</td>\n",
       "    </tr>\n",
       "  </tbody>\n",
       "</table>\n",
       "</div>"
      ],
      "text/plain": [
       "                                                              business_id  \\\n",
       "user_id                                                                     \n",
       "--Awhttr0FhVud5prVpVlA                           [K6fYrrTorlpXmqutRcrHzg]   \n",
       "--U0loZF9HaSPRzrGuiWLg                           [YNI26xBkdOzI1TMGmIcEaw]   \n",
       "--amZ_cR9Zgu4B1RrAHJyA   [LNsZJP6jZ11e0tDljOLPiQ, AbPQf-X7awuPFDULiJ43bg]   \n",
       "-0S_XaK3Q_Mesal2Unta2w  [wftmt-n8OUA4Ng3bWWH5dw, BLfCMa2yWNo70D3wwAxwo...   \n",
       "-0Xu57zrI3Rxi8wGZsnWKQ                           [meXjqyhTNLFmknY39y2sMg]   \n",
       "\n",
       "                                               additional recommendations  \n",
       "user_id                                                                    \n",
       "--Awhttr0FhVud5prVpVlA  [Dc8ygQx5gXHoqYAOmRydNg, Jd7pyrfNdffLM5nMcP4IP...  \n",
       "--U0loZF9HaSPRzrGuiWLg  [F7tBX4pRGhWxAXr4Ld7dzQ, Jd7pyrfNdffLM5nMcP4IP...  \n",
       "--amZ_cR9Zgu4B1RrAHJyA  [PiQ11tDiQMxvFGbKZpbkSw, Jd7pyrfNdffLM5nMcP4IP...  \n",
       "-0S_XaK3Q_Mesal2Unta2w  [PiQ11tDiQMxvFGbKZpbkSw, mfKYB-iZOZLgPjnYo06fM...  \n",
       "-0Xu57zrI3Rxi8wGZsnWKQ  [F7tBX4pRGhWxAXr4Ld7dzQ, Jd7pyrfNdffLM5nMcP4IP...  "
      ]
     },
     "metadata": {},
     "output_type": "display_data"
    }
   ],
   "source": [
    "def filler(users_missing_recommendations, recommendations_category, business_top5):\n",
    "    users = []\n",
    "    businesses_list = []\n",
    "    for user in users_missing_recommendations:\n",
    "        index = recommendations_category.loc[recommendations_category.index == user].index\n",
    "        already_recommended = recommendations_category['business_id'][index]\n",
    "        amount_missing = 5 - len(recommendations_category['business_id'][index])\n",
    "        additional_businesses = filling_up(business_top5, amount_missing)\n",
    "        businesses_list.append(additional_businesses)\n",
    "        users.append(user)\n",
    "\n",
    "    new = pd.Series(businesses_list, index = users, name = 'additional recommendations')\n",
    "    final_recommendations = recommendations_category.join(new, on='user_id')\n",
    "    return final_recommendations\n",
    "\n",
    "final_restaurants = filler(users_missing_restaurants, recommendations_restaurants, restaurants_top5)\n",
    "final_nightlife = filler(users_missing_nightlife, recommendations_nightlife, nightlife_top5)\n",
    "final_shopping = filler(users_missing_shopping, recommendations_shopping, shopping_top5)\n",
    "final_automotive = filler(users_missing_automotive, recommendations_automotive, automotive_top5)\n",
    "\n",
    "display(final_restaurants.head())"
   ]
  },
  {
   "cell_type": "code",
   "execution_count": 127,
   "metadata": {},
   "outputs": [
    {
     "name": "stderr",
     "output_type": "stream",
     "text": [
      "/home/jurriaan/.local/lib/python3.6/site-packages/ipykernel_launcher.py:21: SettingWithCopyWarning: \n",
      "A value is trying to be set on a copy of a slice from a DataFrame\n",
      "\n",
      "See the caveats in the documentation: http://pandas.pydata.org/pandas-docs/stable/indexing.html#indexing-view-versus-copy\n"
     ]
    }
   ],
   "source": [
    "utility_restaurants = utility_maker(['restaurants', 'food'])\n",
    "similarity_restaurants = create_similarity_matrix_jaccard(utility_restaurants)\n",
    "ratings_training_restaurants = df_ratings_training[df_ratings_training['business_id'].isin(utility_restaurants.index)]\n",
    "utility_ratings_restaurants = pivot_ratings(ratings_training_restaurants)\n",
    "predicted_restaurants1 = predict_ratings(similarity_restaurants, utility_ratings_restaurants, df_ratings_test[['user_id', 'business_id', 'stars']])"
   ]
  },
  {
   "cell_type": "code",
   "execution_count": 136,
   "metadata": {},
   "outputs": [],
   "source": [
    "predicted_restaurants2 = predict_ratings(similarity_rest, utility_ratings_rest, ratings_test_restaurants[['user_id', 'business_id', 'stars']])"
   ]
  },
  {
   "cell_type": "code",
   "execution_count": 137,
   "metadata": {},
   "outputs": [
    {
     "name": "stdout",
     "output_type": "stream",
     "text": [
      "cb1 0 scores\n",
      "12787\n",
      "cb2 0 scores\n",
      "7085\n"
     ]
    }
   ],
   "source": [
    "print(\"cb1 0 scores\")\n",
    "print(len(predicted_restaurants1[predicted_restaurants1['predicted rating'] == 0]))\n",
    "print(\"cb2 0 scores\")\n",
    "print(len(predicted_restaurants2[predicted_restaurants2['predicted rating'] == 0]))"
   ]
  },
  {
   "cell_type": "markdown",
   "metadata": {},
   "source": [
    "'''Hieronder zijn alleen testjes en plotjes'''"
   ]
  },
  {
   "cell_type": "code",
   "execution_count": null,
   "metadata": {},
   "outputs": [],
   "source": []
  },
  {
   "cell_type": "code",
   "execution_count": null,
   "metadata": {},
   "outputs": [],
   "source": []
  },
  {
   "cell_type": "code",
   "execution_count": null,
   "metadata": {},
   "outputs": [],
   "source": []
  },
  {
   "cell_type": "code",
   "execution_count": null,
   "metadata": {},
   "outputs": [],
   "source": []
  },
  {
   "cell_type": "code",
   "execution_count": null,
   "metadata": {},
   "outputs": [],
   "source": []
  },
  {
   "cell_type": "code",
   "execution_count": null,
   "metadata": {},
   "outputs": [],
   "source": []
  },
  {
   "cell_type": "code",
   "execution_count": null,
   "metadata": {},
   "outputs": [],
   "source": []
  },
  {
   "cell_type": "code",
   "execution_count": null,
   "metadata": {},
   "outputs": [],
   "source": []
  }
 ],
 "metadata": {
  "kernelspec": {
   "display_name": "Python 3",
   "language": "python",
   "name": "python3"
  },
  "language_info": {
   "codemirror_mode": {
    "name": "ipython",
    "version": 3
   },
   "file_extension": ".py",
   "mimetype": "text/x-python",
   "name": "python",
   "nbconvert_exporter": "python",
   "pygments_lexer": "ipython3",
   "version": "3.6.9"
  }
 },
 "nbformat": 4,
 "nbformat_minor": 4
}
